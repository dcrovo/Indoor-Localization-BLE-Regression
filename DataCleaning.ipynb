{
 "cells": [
  {
   "cell_type": "code",
   "execution_count": null,
   "id": "d4d2b7b3-6b3f-4c04-a68d-f116e38dd3cb",
   "metadata": {},
   "outputs": [],
   "source": [
    "import json\n",
    "import os\n",
    "import pandas as pd\n",
    "\n",
    "PROJECT_ROOT_DIR = '.'\n",
    "DATA_PATH = os.path.join(PROJECT_ROOT_DIR, \"DA_data\")\n",
    "TRAINING_PATH = os.path.join(DATA_PATH,\"training\")\n",
    "TEST_PATH = os.path.join(DATA_PATH, \"testing\")\n",
    "\n"
   ]
  },
  {
   "cell_type": "code",
   "execution_count": null,
   "id": "1bac4376",
   "metadata": {},
   "outputs": [],
   "source": [
    "json_files = os.listdir(TRAINING_PATH)\n",
    "sensor_values_rows = []\n",
    "dataF = pd.DataFrame(columns=['station1', 'station2','station3','station4','station5','signature','label'])\n",
    "\n",
    "for json_file in json_files:\n",
    "    with open((TRAINING_PATH+\"/\"+json_file), 'r') as f:\n",
    "        data = json.load(f)\n",
    "        label = json_file[:3]\n",
    "        signature = data['signature']\n",
    "\n",
    "        for value in data['payload']['values']:\n",
    "\n",
    "            dataF.loc[len(dataF)] = [value[0], value[1],value[2],value[3],value[4],signature, label]\n",
    "            \n",
    "dataF.to_csv(\"data-train.csv\")\n",
    "\n",
    "    \n"
   ]
  },
  {
   "cell_type": "code",
   "execution_count": null,
   "id": "17695674",
   "metadata": {},
   "outputs": [],
   "source": [
    "json_files = os.listdir(TEST_PATH)\n",
    "sensor_values_rows = []\n",
    "dataF = pd.DataFrame(columns=['station1', 'station2','station3','station4','station5','signature','label'])\n",
    "\n",
    "for json_file in json_files:\n",
    "    with open((TEST_PATH+\"/\"+json_file), 'r') as f:\n",
    "        data = json.load(f)\n",
    "        label = json_file[:3]\n",
    "        signature = data['signature']\n",
    "\n",
    "        for value in data['payload']['values']:\n",
    "\n",
    "            dataF.loc[len(dataF)] = [value[0], value[1],value[2],value[3],value[4],signature, label]\n",
    "            \n",
    "dataF.to_csv(\"data-test.csv\")\n",
    "\n",
    "    \n"
   ]
  },
  {
   "attachments": {},
   "cell_type": "markdown",
   "id": "be69dc08",
   "metadata": {},
   "source": [
    "## Acquiring data"
   ]
  },
  {
   "cell_type": "code",
   "execution_count": null,
   "id": "c6fbe66f-0629-4ebf-9785-8fccfd32fade",
   "metadata": {},
   "outputs": [],
   "source": [
    "import pandas as pd\n",
    "pd.plotting.register_matplotlib_converters()\n",
    "import matplotlib.pyplot as plt\n",
    "%matplotlib inline\n",
    "import seaborn as sns\n",
    "from scipy import signal\n",
    "import numpy as np\n",
    "data = pd.read_csv(\"data-train.csv\")\n",
    "data = data.drop('Unnamed: 0', axis=1)\n",
    "data = data.drop('signature', axis=1)\n",
    "data.head()\n",
    "df = data.copy()\n",
    "df_avg = data.copy()\n"
   ]
  },
  {
   "cell_type": "code",
   "execution_count": null,
   "id": "82eb2647",
   "metadata": {},
   "outputs": [],
   "source": [
    "plt.figure(figsize=(16,6))\n",
    "sns.lineplot(data=df)"
   ]
  },
  {
   "cell_type": "code",
   "execution_count": null,
   "id": "daef474f",
   "metadata": {},
   "outputs": [],
   "source": [
    "df_by_labels= {}\n",
    "x = df_avg.groupby('label').label.count()\n",
    "for label in x.index:\n",
    "    df_by_labels[label] = (df_avg.loc[df.label==label])"
   ]
  },
  {
   "cell_type": "code",
   "execution_count": null,
   "id": "5fd68440",
   "metadata": {},
   "outputs": [],
   "source": []
  },
  {
   "cell_type": "code",
   "execution_count": null,
   "id": "a25256ed",
   "metadata": {},
   "outputs": [],
   "source": [
    "def distance2d(p1, p2):\n",
    "    dt = np.power(((p2[0] - p1[0]) + (p2[1] - p1[1])), 2)\n",
    "    return np.sqrt(dt)\n",
    "\n",
    "\n",
    "def l2Distance(p1, p2):\n",
    "    x1, y1 = p1\n",
    "    x2, y2 = p2\n",
    "    x1, y1 = np.array(x1), np.array(y1)\n",
    "    x2, y2 = np.array(x2), np.array(y2)\n",
    "\n",
    "    dx = (x2 - x1)**2\n",
    "    dy = (y2 - y1)**2\n",
    "    dist = np.sqrt(dx+dy)\n",
    "    return np.mean(dist), dist"
   ]
  },
  {
   "cell_type": "code",
   "execution_count": null,
   "id": "ca9360e9",
   "metadata": {},
   "outputs": [],
   "source": [
    "coordinates = {'station1': (13.64, 1.90),\n",
    "                'station2': (9.31, 4.09),\n",
    "                'station3': (4.50, 4.59),\n",
    "                'station4': (6.05, 0.15),\n",
    "                'station5': (0.29, 4.42),\n",
    "                '0,0': (14.14, 0.),\n",
    "                '1,0': (12.28, 0.),\n",
    "                '2,0': (10.42, 0.),\n",
    "                '3,0': (8.56, 0.),\n",
    "                '4,0': (6.7, 0.),\n",
    "                '5,0': (4.84, 0.),\n",
    "                '6,0': (2.98, 0.),\n",
    "                '7,0': (1.12, 0.),\n",
    "                '0,1': (14.14, 2.),\n",
    "                '1,1': (12.28, 2.),\n",
    "                '2,1': (10.42, 2.),\n",
    "                '3,1': (8.56, 2.),\n",
    "                '4,1': (6.7, 2.),\n",
    "                '5,1': (4.84, 2.),\n",
    "                '6,1': (2.98, 2.),\n",
    "                '7,1': (1.12, 2.),\n",
    "                '0,2': (14.14, 4.),\n",
    "                '1,2': (12.28, 4.),\n",
    "                '2,2': (10.42, 4.),\n",
    "                '3,2': (8.56, 4.),\n",
    "                '4,2': (6.7, 4.),\n",
    "                '5,2': (4.84, 4.),\n",
    "                '6,2': (2.98, 4.),\n",
    "                '7,2': (1.12, 4.),\n",
    "                '1,3': (12.28, 6.),\n",
    "                '2,3': (10.42, 6.),}\n",
    "\n",
    "\n",
    "#Dataframe to fill with coordinates and export to csv\n",
    "\n",
    "df['x'] = df['label']\n",
    "df['y'] = df['label']\n",
    "df = df.drop('label', axis=1)\n",
    "\n",
    "df['x'] = df.x.map(lambda x: coordinates[x][0])\n",
    "df['y'] = df.y.map(lambda x: coordinates[x][1])\n",
    "df.to_csv('exported_data.csv')\n",
    "\n",
    "#Dataframe to fill with coordinates and work locally with moving average\n",
    "\n",
    "df_avg['x'] = df_avg['label']\n",
    "df_avg['y'] = df_avg['label']\n",
    "df_avg = df_avg.drop('label', axis=1)\n",
    "\n",
    "df_avg['x'] = df_avg.x.map(lambda x: coordinates[x][0])\n",
    "df_avg['y'] = df_avg.y.map(lambda x: coordinates[x][1])\n"
   ]
  },
  {
   "cell_type": "code",
   "execution_count": null,
   "id": "0e64bb3a",
   "metadata": {},
   "outputs": [],
   "source": [
    "plt.figure(figsize=(16,6))\n",
    "\n",
    "sns.lineplot(data=df.station1)"
   ]
  },
  {
   "cell_type": "code",
   "execution_count": null,
   "id": "e2111c3b",
   "metadata": {},
   "outputs": [],
   "source": [
    "TW = 20\n",
    "NX = 2\n",
    "df_avg.station1 = df.station1.rolling(TW, min_periods=NX).mean()\n",
    "df_avg.station2 = df.station2.rolling(TW, min_periods=NX).mean()\n",
    "df_avg.station3 = df.station3.rolling(TW, min_periods=NX).mean()\n",
    "df_avg.station4 = df.station4.rolling(TW, min_periods=NX).mean()\n",
    "df_avg.station5 = df.station5.rolling(TW, min_periods=NX).mean()\n",
    "df_avg = df_avg.dropna()\n"
   ]
  },
  {
   "cell_type": "code",
   "execution_count": null,
   "id": "e239c903",
   "metadata": {},
   "outputs": [],
   "source": [
    "df_station1 = df_avg.drop(['station2' ,'station3', 'station4', 'station5'], axis=1)\n",
    "df_station1['rssi'] = df_avg.station1\n",
    "df_station1 = df_station1.drop('station1', axis=1)\n",
    "\n",
    "df_station2 = df_avg.drop(['station1' ,'station3', 'station4', 'station5'], axis=1)\n",
    "df_station2['rssi'] = df_avg.station2\n",
    "df_station2 = df_station2.drop('station2', axis=1)\n",
    "\n",
    "df_station3 = df_avg.drop(['station1' ,'station2', 'station4', 'station5'], axis=1)\n",
    "df_station3['rssi'] = df_avg.station3\n",
    "df_station3 = df_station3.drop('station3', axis=1)\n",
    "\n",
    "df_station4 = df_avg.drop(['station1' ,'station2', 'station3', 'station5'], axis=1)\n",
    "df_station4['rssi'] = df_avg.station4\n",
    "df_station4 = df_station4.drop('station4', axis=1)\n",
    "\n",
    "df_station5 = df_avg.drop(['station1' ,'station2', 'station3', 'station4'], axis=1)\n",
    "df_station5['rssi'] = df_avg.station5\n",
    "df_station5 = df_station5.drop('station5', axis=1)\n",
    "\n",
    "concat = pd.concat([df_station1.assign(station='station1'),\n",
    "                    df_station2.assign(station='station2'),\n",
    "                    df_station3.assign(station='station3'),\n",
    "                    df_station4.assign(station='station4'), \n",
    "                    df_station5.assign(station='station5')], ignore_index=True)\n"
   ]
  },
  {
   "cell_type": "code",
   "execution_count": null,
   "id": "ff7211b7",
   "metadata": {},
   "outputs": [],
   "source": [
    "plt.figure(figsize=(24,6))\n",
    "\n",
    "sns.relplot(data=concat, x='x', y='rssi', hue='station', kind='line', style='y')"
   ]
  },
  {
   "cell_type": "code",
   "execution_count": null,
   "id": "1b052be9",
   "metadata": {},
   "outputs": [],
   "source": [
    "plt.figure(figsize=(24,6))\n",
    "\n",
    "sns.relplot(data=concat, x='x', y='rssi', hue='station', kind='line', col='y', style='y')"
   ]
  },
  {
   "cell_type": "code",
   "execution_count": null,
   "id": "a285938a",
   "metadata": {},
   "outputs": [],
   "source": [
    "sns.pairplot(df_avg, diag_kind='kde')"
   ]
  },
  {
   "cell_type": "code",
   "execution_count": null,
   "id": "c2a162fc",
   "metadata": {},
   "outputs": [],
   "source": [
    "corr_mat = df_avg.corr()\n",
    "cmap = sns.diverging_palette(10, 220, as_cmap=True)\n",
    "sns.heatmap(\n",
    "    data=corr_mat, \n",
    "    vmin=-1.0, \n",
    "    vmax=1.0, \n",
    "    center=0, \n",
    "    cmap=cmap, \n",
    "    square=True,\n",
    "    linewidths=0.5, \n",
    "    linecolor='k',\n",
    "    annot=True, \n",
    "    fmt='.3f',\n",
    ")"
   ]
  },
  {
   "cell_type": "code",
   "execution_count": null,
   "id": "bb164198",
   "metadata": {},
   "outputs": [],
   "source": [
    "train_avg = df_avg.sample(frac=0.8, random_state=42)\n",
    "test_avg = df_avg.drop(train_avg.index)"
   ]
  },
  {
   "cell_type": "code",
   "execution_count": null,
   "id": "d4e37deb",
   "metadata": {},
   "outputs": [],
   "source": [
    "corr_mat2 = train_avg.corr()\n",
    "cmap = sns.diverging_palette(10, 220, as_cmap=True)\n",
    "sns.heatmap(\n",
    "    data=corr_mat, \n",
    "    vmin=-1.0, \n",
    "    vmax=1.0, \n",
    "    center=0, \n",
    "    cmap=cmap, \n",
    "    square=True,\n",
    "    linewidths=0.5, \n",
    "    linecolor='k',\n",
    "    annot=True, \n",
    "    fmt='.3f',\n",
    ")"
   ]
  },
  {
   "cell_type": "code",
   "execution_count": null,
   "id": "37379d84",
   "metadata": {},
   "outputs": [],
   "source": [
    "train_avg.describe().transpose()"
   ]
  },
  {
   "attachments": {},
   "cell_type": "markdown",
   "id": "8c446c1f",
   "metadata": {},
   "source": [
    "# Traning Models\n",
    "\n",
    "### Data split into train and test"
   ]
  },
  {
   "cell_type": "code",
   "execution_count": null,
   "id": "e076b1cf",
   "metadata": {},
   "outputs": [],
   "source": [
    "train_x_avg = train_avg.drop(['x', 'y'], axis=1)\n",
    "train_y_avg = train_avg.drop(['station1', 'station2', 'station3', 'station4','station5'], axis=1)\n",
    "test_x_avg = test_avg.drop(['x', 'y'], axis=1)\n",
    "test_y_avg = test_avg.drop(['station1', 'station2', 'station3', 'station4','station5'], axis=1)\n"
   ]
  },
  {
   "cell_type": "code",
   "execution_count": null,
   "id": "61a0f1e6",
   "metadata": {},
   "outputs": [],
   "source": [
    "from sklearn.linear_model import LinearRegression\n",
    "from sklearn.neighbors import KNeighborsRegressor\n",
    "from sklearn.tree import DecisionTreeRegressor\n",
    "from sklearn import ensemble\n",
    "from sklearn.metrics import r2_score, mean_squared_error\n"
   ]
  },
  {
   "attachments": {},
   "cell_type": "markdown",
   "id": "b335d4e9",
   "metadata": {},
   "source": [
    "## Linear Regression"
   ]
  },
  {
   "cell_type": "code",
   "execution_count": null,
   "id": "e9bd7f3a",
   "metadata": {},
   "outputs": [],
   "source": [
    "modelLR = LinearRegression()\n",
    "modelLR.fit(train_x_avg, train_y_avg)\n",
    "pred = modelLR.predict(test_x_avg)\n",
    "print('R2 Score: ', r2_score(test_y_avg, pred))"
   ]
  },
  {
   "cell_type": "code",
   "execution_count": null,
   "id": "23e82c60",
   "metadata": {},
   "outputs": [],
   "source": [
    "distLR_mean, distancesLR = l2Distance((test_y_avg['x'].values, test_y_avg['y'].values), (pred[:,0], pred[:,1]))\n",
    "print('Media de las distancias entre predicciones y valores reales',distLR_mean)"
   ]
  },
  {
   "cell_type": "code",
   "execution_count": null,
   "id": "956cbe92",
   "metadata": {},
   "outputs": [],
   "source": [
    "sortedl2_LR = np.sort(distancesLR)\n",
    "prob_deep = 1. * np.arange(len(sortedl2_LR))/(len(sortedl2_LR) - 1)\n",
    "fig, ax = plt.subplots()\n",
    "lg1, = ax.plot(sortedl2_LR, prob_deep, color='black')\n",
    "plt.title('CDF of Euclidean distance error')\n",
    "plt.xlabel('Distance (m)')\n",
    "plt.ylabel('Probability')\n",
    "plt.grid(True)\n",
    "gridlines = ax.get_xgridlines() + ax.get_ygridlines()\n",
    "for line in gridlines:\n",
    "    line.set_linestyle('-.')\n"
   ]
  },
  {
   "attachments": {},
   "cell_type": "markdown",
   "id": "c570ca90",
   "metadata": {},
   "source": [
    "## KNN Regressor"
   ]
  },
  {
   "cell_type": "code",
   "execution_count": null,
   "id": "2e16ebd6",
   "metadata": {},
   "outputs": [],
   "source": [
    "modelKNNR = KNeighborsRegressor()\n",
    "modelKNNR.fit(train_x_avg, train_y_avg)\n",
    "predKNN = modelKNNR.predict(test_x_avg)\n",
    "print('R2 Score: ', r2_score(test_y_avg, predKNN), \n",
    "      '\\n', 'MSE: ', mean_squared_error(test_y_avg, predKNN))"
   ]
  },
  {
   "cell_type": "code",
   "execution_count": null,
   "id": "62a5fbb3",
   "metadata": {},
   "outputs": [],
   "source": [
    "distKNN_mean, distancesKNN = l2Distance((test_y_avg['x'].values, test_y_avg['y'].values), (predKNN[:,0], predKNN[:,1]))\n",
    "print('Media de las distancias entre predicciones y valores reales',distKNN_mean)"
   ]
  },
  {
   "cell_type": "code",
   "execution_count": null,
   "id": "b28e1ff6",
   "metadata": {},
   "outputs": [],
   "source": [
    "sortedl2_KNN = np.sort(distancesKNN)\n",
    "prob_KNN = 1. * np.arange(len(sortedl2_KNN))/(len(sortedl2_KNN) - 1)\n",
    "fig, ax = plt.subplots()\n",
    "lg1, = ax.plot(sortedl2_KNN, prob_KNN, color='black')\n",
    "plt.title('CDF of Euclidean distance error')\n",
    "plt.xlabel('Distance (m)')\n",
    "plt.ylabel('Probability')\n",
    "plt.grid(True)\n",
    "gridlines = ax.get_xgridlines() + ax.get_ygridlines()\n",
    "for line in gridlines:\n",
    "    line.set_linestyle('-.')"
   ]
  },
  {
   "attachments": {},
   "cell_type": "markdown",
   "id": "82d5df56",
   "metadata": {},
   "source": [
    "## Decision Tree Regresor"
   ]
  },
  {
   "cell_type": "code",
   "execution_count": null,
   "id": "efe9e6c3",
   "metadata": {},
   "outputs": [],
   "source": [
    "modelDTR = DecisionTreeRegressor()\n",
    "modelDTR.fit(train_x_avg, train_y_avg)\n",
    "predDTR = modelDTR.predict(test_x_avg)\n",
    "print('R2 Score: ', r2_score(test_y_avg, predDTR), \n",
    "      '\\n', 'MSE: ', mean_squared_error(test_y_avg, predDTR))"
   ]
  },
  {
   "cell_type": "code",
   "execution_count": null,
   "id": "d7cd09ee",
   "metadata": {},
   "outputs": [],
   "source": [
    "distDTR_mean, distancesDTR = l2Distance((test_y_avg['x'].values, test_y_avg['y'].values), (predDTR[:,0], predDTR[:,1]))\n",
    "print('Media de las distancias entre predicciones y valores reales',distDTR_mean)"
   ]
  },
  {
   "cell_type": "code",
   "execution_count": null,
   "metadata": {},
   "outputs": [],
   "source": []
  }
 ],
 "metadata": {
  "kernelspec": {
   "display_name": "mlho",
   "language": "python",
   "name": "python3"
  },
  "language_info": {
   "codemirror_mode": {
    "name": "ipython",
    "version": 3
   },
   "file_extension": ".py",
   "mimetype": "text/x-python",
   "name": "python",
   "nbconvert_exporter": "python",
   "pygments_lexer": "ipython3",
   "version": "3.10.9"
  },
  "vscode": {
   "interpreter": {
    "hash": "f9764b14e58af9a9ed3b69f3d0a165fe09afd5fa4180f1c988e1ef218f1e22b1"
   }
  }
 },
 "nbformat": 4,
 "nbformat_minor": 5
}
